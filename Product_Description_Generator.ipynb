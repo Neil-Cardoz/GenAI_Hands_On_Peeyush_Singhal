{
  "nbformat": 4,
  "nbformat_minor": 0,
  "metadata": {
    "colab": {
      "provenance": [],
      "authorship_tag": "ABX9TyPSqzO4Y2kje+QiqmST2aoC",
      "include_colab_link": true
    },
    "kernelspec": {
      "name": "python3",
      "display_name": "Python 3"
    },
    "language_info": {
      "name": "python"
    }
  },
  "cells": [
    {
      "cell_type": "markdown",
      "metadata": {
        "id": "view-in-github",
        "colab_type": "text"
      },
      "source": [
        "<a href=\"https://colab.research.google.com/github/peeyushsinghal/GenAI_Hands_On/blob/main/Product_Description_Generator.ipynb\" target=\"_parent\"><img src=\"https://colab.research.google.com/assets/colab-badge.svg\" alt=\"Open In Colab\"/></a>"
      ]
    },
    {
      "cell_type": "markdown",
      "source": [
        "# 🎯 Objective\n",
        "\n",
        "Learn how Generative AI (Google Gemini) can generate product descriptions in different tones and see how temperature settings affect creativity.\n",
        "\n",
        "We’ll use SunBurst Orange Juice as an example product.\n",
        "\n",
        "Make sure you have Python 3.8+ installed or use Collab"
      ],
      "metadata": {
        "id": "mloROZnxjAKc"
      }
    },
    {
      "cell_type": "markdown",
      "source": [
        "Install the Gemini API client:"
      ],
      "metadata": {
        "id": "xc71_Wo3jH_m"
      }
    },
    {
      "cell_type": "code",
      "source": [
        "!pip install -q google-generativeai"
      ],
      "metadata": {
        "id": "q-BcIogXfzeZ"
      },
      "execution_count": null,
      "outputs": []
    },
    {
      "cell_type": "code",
      "source": [
        "import google.generativeai as genai"
      ],
      "metadata": {
        "id": "2IBXnbiaf28y"
      },
      "execution_count": null,
      "outputs": []
    },
    {
      "cell_type": "markdown",
      "source": [
        "Get your API key from [Google AI Studio](https://aistudio.google.com/)\n"
      ],
      "metadata": {
        "id": "WNMXKwmPjL_E"
      }
    },
    {
      "cell_type": "markdown",
      "source": [
        "Use directly in code for hands on.\n",
        "For production: Save it as an environment variable for production."
      ],
      "metadata": {
        "id": "x58PDIUPjbnW"
      }
    },
    {
      "cell_type": "code",
      "source": [
        "# Configure API Key\n",
        "genai.configure(api_key=\"YOUR_OWN_GEMINI_KEY\") # https://ai.google.dev/gemini-api/docs/api-key\n",
        "\n",
        "# Pick a Gemini Model (text-only)\n",
        "model = genai.GenerativeModel(\"gemini-2.0-flash\")"
      ],
      "metadata": {
        "id": "AjPK0zligGe_"
      },
      "execution_count": null,
      "outputs": []
    },
    {
      "cell_type": "markdown",
      "source": [
        "# 📌 Task\n",
        "\n",
        "* Input: SunBurst Orange Juice\n",
        "\n",
        "* Generate 3 descriptions:\n",
        "\n",
        "1. Formal\n",
        "2. Casual\n",
        "3. Punchy / Ad-like\n",
        "\n",
        "\n",
        "* Compare outputs by tone and temperature."
      ],
      "metadata": {
        "id": "Pfgqg9NElXnT"
      }
    },
    {
      "cell_type": "code",
      "source": [
        "# First Try\n",
        "response = model.generate_content( \"Generate a product description for Sunburst Orange Juice. Keep it short and engaging\")"
      ],
      "metadata": {
        "id": "5FJad1JFg8LA"
      },
      "execution_count": null,
      "outputs": []
    },
    {
      "cell_type": "code",
      "source": [
        "response"
      ],
      "metadata": {
        "colab": {
          "base_uri": "https://localhost:8080/"
        },
        "id": "Us-jHPQ-hwF7",
        "outputId": "901b470f-1e7f-4a46-9e03-d0dd0c0649ea"
      },
      "execution_count": null,
      "outputs": [
        {
          "output_type": "execute_result",
          "data": {
            "text/plain": [
              "response:\n",
              "GenerateContentResponse(\n",
              "    done=True,\n",
              "    iterator=None,\n",
              "    result=protos.GenerateContentResponse({\n",
              "      \"candidates\": [\n",
              "        {\n",
              "          \"content\": {\n",
              "            \"parts\": [\n",
              "              {\n",
              "                \"text\": \"## Sunburst Orange Juice: Bottled Sunshine.\\n\\n**Wake up your taste buds with the vibrant, tangy sweetness of Sunburst Orange Juice!** Packed with Vitamin C and bursting with freshly squeezed flavor, Sunburst is the perfect way to start your day. Taste the sunshine in every sip!\\n\"\n",
              "              }\n",
              "            ],\n",
              "            \"role\": \"model\"\n",
              "          },\n",
              "          \"finish_reason\": \"STOP\",\n",
              "          \"avg_logprobs\": -0.3331494878550045\n",
              "        }\n",
              "      ],\n",
              "      \"usage_metadata\": {\n",
              "        \"prompt_token_count\": 15,\n",
              "        \"candidates_token_count\": 61,\n",
              "        \"total_token_count\": 76\n",
              "      },\n",
              "      \"model_version\": \"gemini-2.0-flash\"\n",
              "    }),\n",
              ")"
            ]
          },
          "metadata": {},
          "execution_count": 24
        }
      ]
    },
    {
      "cell_type": "code",
      "source": [
        "response.text"
      ],
      "metadata": {
        "colab": {
          "base_uri": "https://localhost:8080/",
          "height": 52
        },
        "id": "ZatV8Jv7h3ia",
        "outputId": "a359e659-ea3c-4ae2-caa1-68c45cab64c8"
      },
      "execution_count": null,
      "outputs": [
        {
          "output_type": "execute_result",
          "data": {
            "text/plain": [
              "'## Sunburst Orange Juice: Bottled Sunshine.\\n\\n**Wake up your taste buds with the vibrant, tangy sweetness of Sunburst Orange Juice!** Packed with Vitamin C and bursting with freshly squeezed flavor, Sunburst is the perfect way to start your day. Taste the sunshine in every sip!\\n'"
            ],
            "application/vnd.google.colaboratory.intrinsic+json": {
              "type": "string"
            }
          },
          "metadata": {},
          "execution_count": 25
        }
      ]
    },
    {
      "cell_type": "code",
      "source": [
        "# Prompt template\n",
        "\n",
        "prompt_template = \"\"\"\n",
        "Generate a product description for {product}\n",
        "Tone : {tone}\n",
        "Keep it short and engaging. Provide response in plain text.\n",
        "\"\"\""
      ],
      "metadata": {
        "id": "HrsMOYSagh4P"
      },
      "execution_count": null,
      "outputs": []
    },
    {
      "cell_type": "code",
      "source": [
        "# Different Tones\n",
        "product = \"Sunburst Orange Juice\"\n",
        "tones = [\"Formal\", \"Casual\", \"Punchy / Ad-like\"]\n"
      ],
      "metadata": {
        "id": "F6Yt9Q06gtVl"
      },
      "execution_count": null,
      "outputs": []
    },
    {
      "cell_type": "code",
      "source": [
        "# Generating response\n",
        "\n",
        "for tone in tones:\n",
        "    prompt = prompt_template.format(product=product, tone=tone)\n",
        "    response = model.generate_content(\n",
        "        prompt,\n",
        "        generation_config={\n",
        "            \"temperature\": 0.9 if tone != \"Formal\" else 0.3,  # vary temperature by tone\n",
        "            \"max_output_tokens\": 150\n",
        "        }\n",
        "    )\n",
        "    print(f\"\\n--- {tone} ---\\n\")\n",
        "    print(response.text)"
      ],
      "metadata": {
        "colab": {
          "base_uri": "https://localhost:8080/",
          "height": 332
        },
        "id": "iwjuWSKtgzCw",
        "outputId": "8d8fb141-26cf-4cca-fb1a-166b7749d431"
      },
      "execution_count": null,
      "outputs": [
        {
          "output_type": "stream",
          "name": "stdout",
          "text": [
            "\n",
            "--- Formal ---\n",
            "\n",
            "Sunburst Orange Juice: Experience the vibrant taste of sunshine in every glass. Made from carefully selected, sun-ripened oranges, our juice delivers a refreshing and naturally sweet flavor. Start your day with a burst of pure citrus goodness.\n",
            "\n",
            "\n",
            "--- Casual ---\n",
            "\n",
            "Need a little sunshine in your life? Crack open a Sunburst Orange Juice! It's like a big, juicy orange just exploded with flavor. Seriously refreshing and packed with that good ol' Vitamin C. Perfect for breakfast, a midday pick-me-up, or whenever you need a burst of citrus happiness. Cheers to that!\n",
            "\n",
            "\n",
            "--- Punchy / Ad-like ---\n",
            "\n",
            "**Sunburst Orange Juice: Unleash the Sunshine!**\n",
            "\n",
            "Taste the zesty explosion of sunshine in every sip! Sunburst Orange Juice is bursting with fresh, ripe oranges, delivering a vibrant flavor that will wake up your taste buds and brighten your day. Fuel your body with Vitamin C and natural goodness. Grab a Sunburst and get glowing!\n",
            "\n"
          ]
        }
      ]
    },
    {
      "cell_type": "markdown",
      "source": [
        "# 🧪 Experiment\n",
        "\n",
        "Try changing product = \"EcoBreeze Air Freshener\" (or any other product).\n",
        "\n",
        "Adjust temperature:\n",
        "\n",
        "0.2–0.4 → more factual, stable outputs.\n",
        "\n",
        "0.8–1.0 → more creative, diverse outputs."
      ],
      "metadata": {
        "id": "BdI1bK8el3CT"
      }
    },
    {
      "cell_type": "markdown",
      "source": [
        "# 💡 Learning Points\n",
        "\n",
        "1. Tone matters → Formal vs Casual vs Ad copy produces very different outputs.\n",
        "\n",
        "2. Temperature controls creativity:\n",
        "\n",
        "- Low → consistent, safe.\n",
        "- High → creative, sometimes surprising.\n",
        "\n",
        "3. This is how Generative AI can personalize marketing at scale."
      ],
      "metadata": {
        "id": "N7hqkcT5l8Zz"
      }
    }
  ]
}